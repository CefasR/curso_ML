{
 "cells": [
  {
   "cell_type": "markdown",
   "metadata": {},
   "source": [
    "##Introdução a solução de problemas de classificação com Naive Bayes\n",
    "<small>Por: Hugo Soares, Cefas Rodrigues e Arilton Filho</small>"
   ]
  },
  {
   "cell_type": "markdown",
   "metadata": {},
   "source": [
    "###Visão Geral\n",
    "\n",
    "Imagine que você recebeu um email de um dos seus amigos, você seria capaz de identificar qual deles escreveu a mensagem sem olhar o endereço do remetente, apenas através do conteúdo do texto? \n",
    "Assumindo que você conheça as palavras que cada um de seus amigos usa com mais frequência na hora de redigir um texto, é possível ter uma ideia. Basta procurar no texto palavras que coincidam com as mais usadas de cada amigo. O amigo que possuir um maior conjunto de palavras encontradas no texto é o melhor candidato.\n",
    "Ao realizarmos uma tarefa desse tipo, estamos na verdade realizando um processo de classificação baseado na probabilidade de um dos amigos ter redigido o texto considerando as palavras que foram inseridas. Essa é a intuição do algoritmo de classificação com Naive Bayes."
   ]
  },
  {
   "cell_type": "code",
   "execution_count": null,
   "metadata": {},
   "outputs": [],
   "source": []
  }
 ],
 "metadata": {
  "kernelspec": {
   "display_name": "Python 2",
   "language": "python",
   "name": "python2"
  },
  "language_info": {
   "codemirror_mode": {
    "name": "ipython",
    "version": 2
   },
   "file_extension": ".py",
   "mimetype": "text/x-python",
   "name": "python",
   "nbconvert_exporter": "python",
   "pygments_lexer": "ipython2",
   "version": "2.7.6"
  }
 },
 "nbformat": 4,
 "nbformat_minor": 0
}
