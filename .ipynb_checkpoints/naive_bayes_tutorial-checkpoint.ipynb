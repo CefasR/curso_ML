{
 "cells": [
  {
   "cell_type": "markdown",
   "metadata": {},
   "source": [
    "## Introdução a solução de problemas de classificação com Naive Bayes\n",
    "<small>Por: Hugo Soares, Cefas Rodrigues e Arilton Filho</small>"
   ]
  },
  {
   "cell_type": "markdown",
   "metadata": {},
   "source": [
    "### Visão Geral\n",
    "\n",
    "Imagine que você recebeu um email de um dos seus amigos, você seria capaz de identificar qual deles escreveu a mensagem sem olhar o endereço do remetente, apenas através do conteúdo do texto? \n",
    "\n",
    "Assumindo que você conheça os conjuntos de palavras que cada um de seus amigos usa com mais frequência, é possível ter uma ideia. Basta procurar no texto palavras que coincidam com as mais usadas de cada amigo. O amigo que possuir o maior conjunto de palavras encontradas no texto é o melhor candidato.\n",
    "Ao efetuarmos uma tarefa desse tipo, estamos na verdade realizando um processo de classificação baseado na probabilidade de um dos amigos ter redigido o texto considerando as palavras que foram usadas. Essa é a intuição do algoritmo de classificação com Naive Bayes.\n",
    "\n",
    "A técnica de classifiação Naive Bayes é baseada no teorema de Bayes, que assume:\n",
    "\\begin{align}\n",
    "P(H|D) = P(H) \\frac{P(D|H)}{P(D)}\n",
    "\\end{align}\n",
    "O teorema nos diz que é possível calcular a probabilidade de uma hipótese H, considerando a presença de um dado D através da frequência em que D apacece quando a hipótese é verdadeira e da frequência que H e D aparecem sozinhos. Abaixo temos a explicação de cada termo na fórmula:\n",
    " - P(H|D) é a “Probabilidade de H dado D”, a probabilidade de H assumindo que D acontece\n",
    " - P(H) é a probabilidade de H\n",
    " - P(D|H) é a “Probabilidade de D dado H”,  a probabilidade de D assumindo que H acontece\n",
    " - P(B) é a probabilidade de D"
   ]
  },
  {
   "cell_type": "markdown",
   "metadata": {},
   "source": []
  }
 ],
 "metadata": {
  "kernelspec": {
   "display_name": "Python 3",
   "language": "python",
   "name": "python3"
  },
  "language_info": {
   "codemirror_mode": {
    "name": "ipython",
    "version": 3
   },
   "file_extension": ".py",
   "mimetype": "text/x-python",
   "name": "python",
   "nbconvert_exporter": "python",
   "pygments_lexer": "ipython3",
   "version": "3.6.3"
  }
 },
 "nbformat": 4,
 "nbformat_minor": 1
}
